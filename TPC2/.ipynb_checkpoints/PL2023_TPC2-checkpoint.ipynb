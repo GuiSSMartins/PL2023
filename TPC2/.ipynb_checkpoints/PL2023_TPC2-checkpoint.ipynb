{
 "cells": [
  {
   "cell_type": "markdown",
   "metadata": {
    "id": "6nFoODdAH7Ha"
   },
   "source": [
    "# TPC2: Somador on/off\n",
    "\n",
    "Crie um programa em Python que tenha o seguinte comportamento:\n",
    "\n",
    "  * Pretende-se um programa que some todas as sequências de dígitos que encontre num texto;\n",
    "  * Prepare o programa para ler o texto do canal de entrada: stdin;\n",
    "  * Sempre que encontrar a string “Off” em qualquer combinação de maiúsculas e minúsculas, esse comportamento é desligado;\n",
    "  * Sempre que encontrar a string “On” em qualquer combinação de maiúsculas e minúsculas, esse comportamento é novamente ligado;\n",
    "  * Sempre que encontrar o caráter “=”, o resultado da soma é colocado na saída.\n"
   ]
  },
  {
   "cell_type": "code",
   "execution_count": null,
   "metadata": {},
   "outputs": [
    {
     "name": "stdout",
     "output_type": "stream",
     "text": [
      "Escreva uma linha: 22.73rt gb b7 7c  =-364rbOff4tc 872cOff dshond672brd -266=21OFFdcfvbnh2j2h e2 2h 5=\n",
      "Soma: 36.730000000000004\n",
      "Soma: 78.73000000000002\n",
      "Soma: 99.73000000000002\n"
     ]
    }
   ],
   "source": [
    "def main(): # incui números negativos e com casas decimais\n",
    "    \n",
    "    # ignorar caracteres lidos   ->    texto = texto[1:]   (todos, a partir do índice 1)\n",
    "    # texto = texto[0::3] -> CUIDADO: ignora também o elemento de índice 3 \n",
    "    \n",
    "    somar = 1 # o programa tem o comportamento ligado\n",
    "    soma_total = 0\n",
    "    negativo = 0 # 0 -> positivo; 1 -> negativo\n",
    "\n",
    "    # ler texto do canal de entrada - stdin (CONSTANTEMENTE)\n",
    "    while 1:\n",
    "        texto = input(\"Escreva uma linha: \")\n",
    "        while texto != \"\": # final da linha\n",
    "\n",
    "            if texto[0] == '=': # Apresentar soma total\n",
    "                print(\"Soma: \" + str(soma_total))\n",
    "                texto = texto[1:]\n",
    "            \n",
    "            # Comportamento desligado (somar = 0) -> Só temos de procurar por 'On'\n",
    "            elif somar == 0:\n",
    "                # tem de incluir pelo menos 'O' 'n'\n",
    "                if (texto[0] == 'O' or texto[0] == 'o') and len(texto) >= 2:\n",
    "                    if texto[1] == 'n' or texto[1] == 'N':\n",
    "                        # detetado \"on\"\n",
    "                        somar = 1\n",
    "                        texto = texto[2:] #ignorar caracteres lidos\n",
    "                    else:\n",
    "                        texto = texto[1:] #ignorar caracteres lidos  \n",
    "                else:\n",
    "                    # Neste caso, não vamos procurar por números\n",
    "                    texto = texto[1:] #ignorar caracteres lidos\n",
    "\n",
    "            else: # somar == 1 -> comportamento ligado\n",
    "\n",
    "                # Temos de verificar se o próximo número começa por um sinal (negativo)\n",
    "                if texto[0] == '-': \n",
    "                    negativo = 1\n",
    "                    texto = texto[1:]\n",
    "\n",
    "                elif (texto[0] == 'O' or texto[0] == 'o') and len(texto) >= 3:\n",
    "                    if texto[1] == 'f' or texto[1] == 'F':\n",
    "                        if texto[2] == 'f' or texto[2] == 'F':\n",
    "                            #Detetado \"off\"\n",
    "                            somar = 0\n",
    "                            texto = texto[3:] #ignorar caracteres lidos\n",
    "                        else:\n",
    "                            texto = texto[2:] #ignorar caracteres lidos\n",
    "                    else:\n",
    "                        texto = texto[1:] #ignorar caracteres lidos\n",
    "                else:\n",
    "                    fracionario = 0 # ATENÇÃO: só pode estar um ponto \".\" ou \",\" para ser um número fracionário\n",
    "                    if texto[0].isnumeric(): # 1º caracter é um número (temos de ver até onde termina)\n",
    "                        \n",
    "                        fracionario = 0 #por enquanto, é um número com casas decimais\n",
    "                        e_numero = 1 # por enquanto, é um número\n",
    "                        s_numero = \"\"\n",
    "                        s_numero += texto[0]\n",
    "                        texto = texto[1:]\n",
    "                        while e_numero and (texto != \"\"):\n",
    "                            if texto[0].isnumeric(): # verifica-se que é um número\n",
    "                                s_numero += texto[0]\n",
    "                                texto = texto[1:]\n",
    "                            # temos de confirmar se tem casas decimais\n",
    "                            elif not fracionario and (texto[0] == '.' or texto[0] == ','):\n",
    "                                texto = texto[1:]\n",
    "                                # mas ainda é preciso garantir que no espaço seguinte haja números\n",
    "                                # senão, já não é considerado número\n",
    "                                if texto == \"\": # número inválido\n",
    "                                    e_numero = 0\n",
    "                                elif texto[0].isnumeric():\n",
    "                                    fracionario = 1\n",
    "                                    s_numero += '.'\n",
    "                                    s_numero += texto[0]\n",
    "                                    texto = texto[1:]\n",
    "                                else:\n",
    "                                    e_numero = 0\n",
    "                            else: # já não tem mais números OU encontramos uma virgula/ponto a mais\n",
    "                                e_numero = 0\n",
    "                        if fracionario: numero = float(s_numero) # ignora-se o elem de indice i\n",
    "                        else: numero = int(s_numero)\n",
    "                        if negativo: \n",
    "                            soma_total -= numero\n",
    "                        else: \n",
    "                            soma_total += numero\n",
    "                        negativo = 0 # volta ao normal\n",
    "                    # Caso não inicie por um número\n",
    "                    else:\n",
    "                        texto = texto[1:] # elimina caracter lido\n",
    "\n",
    "if __name__ == '__main__':\n",
    "    main()"
   ]
  },
  {
   "cell_type": "markdown",
   "metadata": {},
   "source": [
    "__Linha exemplo para teste__: 22.73rt gb b7 7c  =-364rbOff4tc 872cOff dshond672brd -266=21OFFdcfvbnh2j2h e2 2h 5=\n",
    "\n",
    "- (os valores dentro de [] são ignorados - é um exemplo apenas para facilitar a compreensão do funcionamento do programa)\n",
    "\n",
    "_Sequência de strings válidas_: 22.73, 7, 7, (=), -364, \"Off\" [4, 872, \"Off\"], \"on\", 672, -266, (=), 21, \"OFF\", [2, 2, 2, 2, 5]\n",
    "\n",
    "_Resultado esperado_:\n",
    "\n",
    "Soma: 36.73 = 22.73 + 7 + 7\n",
    "\n",
    "Soma: 78.73 = 36.73 - 364 + 672 - 266\n",
    "\n",
    "Soma: 99.73 = 78.73 + 21"
   ]
  }
 ],
 "metadata": {
  "colab": {
   "provenance": []
  },
  "kernelspec": {
   "display_name": "Python 3",
   "language": "python",
   "name": "python3"
  },
  "vscode": {
   "interpreter": {
    "hash": "916dbcbb3f70747c44a77c7bcd40155683ae19c65e1c03b4aa3499c5328201f1"
   }
  }
 },
 "nbformat": 4,
 "nbformat_minor": 1
}
